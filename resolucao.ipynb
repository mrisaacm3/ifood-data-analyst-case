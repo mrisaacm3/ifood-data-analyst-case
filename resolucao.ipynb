{
 "cells": [
  {
   "cell_type": "markdown",
   "metadata": {},
   "source": [
    "# **Resolução por: Isaac Machado**"
   ]
  },
  {
   "cell_type": "markdown",
   "metadata": {},
   "source": [
    "# 📊 **Análise para Maximização de Lucro na Próxima Campanha de Marketing**\n",
    "\n",
    "## **Categorias de Produtos Vendidos:**\n",
    "\n",
    "- **Wines:** Vinhos\n",
    "- **Rare meat products:** Carnes raras\n",
    "- **Exotic fruits:** Frutas exóticas\n",
    "- **Specially prepared fish:** Peixes preparados\n",
    "- **Sweet products:** Produtos doces\n",
    "\n",
    "### **Outras Categorias:**\n",
    "- **Gold:** Produtos de ouro\n",
    "- **Regular products:** Produtos regulares\n",
    "\n",
    "---\n",
    "\n",
    "## **Canais de Vendas:**\n",
    "\n",
    "- **Physical stores:** Lojas físicas\n",
    "- **Catalogs:** Catálogos\n",
    "- **The company’s website:** Site da empresa\n",
    "\n",
    "---\n",
    "\n",
    "## **Objetivo da Análise:**\n",
    "\n",
    "O objetivo da equipe é construir uma **análise para maximizar o lucro** da próxima campanha de marketing direto, programada para o próximo mês. Essa campanha tem como meta vender um **novo gadget** para os clientes.\n",
    "\n",
    "Para isso, foi realizada uma **campanha piloto** envolvendo **2.240 clientes**. \n",
    "\n",
    "- **Seleção dos clientes:** Aleatória, com contato feito por telefone.\n",
    "- **Resultados da campanha piloto:**  \n",
    "   - **Custo:** 6.720 MU  \n",
    "   - **Receita gerada:** 3.674 MU  \n",
    "   - **Lucro total:** -3.046 MU (prejuízo)  \n",
    "   - **Taxa de sucesso:** 15% dos clientes aceitaram a oferta.\n",
    "\n",
    "---\n",
    "\n",
    "## **Estratégia da Análise:**\n",
    "\n",
    "1. **Tratamento dos dados:**  \n",
    "   - Preparar e limpar os dados para modelagem.  \n",
    "   - Transformar variáveis qualitativas em quantitativas.  \n",
    "   - Lidar com valores nulos e variáveis temporais.\n",
    "\n",
    "2. **Modelagem preditiva:**  \n",
    "   - Utilização de algoritmos para prever a probabilidade de cada cliente aceitar a oferta.  \n",
    "   - Estimar o lucro esperado para diferentes perfis de clientes.  \n",
    "\n",
    "3. **Segmentação de clientes:**  \n",
    "   - Identificar segmentos com maior potencial de lucro.  \n",
    "   - Criar personas baseadas em características demográficas e comportamentais.  \n",
    "\n",
    "4. **Ações de marketing:**  \n",
    "   - Desenvolver estratégias direcionadas para cada persona.  \n",
    "   - Maximizar o retorno sobre investimento (ROI).  \n",
    "\n",
    "---\n",
    "\n",
    "## **Variáveis Quantitativas (Numéricas):**\n",
    "\n",
    "1. **Year_Birth:** Ano de nascimento (valor numérico, mas frequentemente convertido em \"idade\").  \n",
    "2. **Income:** Renda anual do domicílio (contínua).  \n",
    "3. **Kidhome:** Número de crianças pequenas no domicílio (discreta).  \n",
    "4. **Teenhome:** Número de adolescentes no domicílio (discreta).  \n",
    "5. **Recency:** Dias desde a última compra (contínua/discreta).  \n",
    "6. **MntFishProducts:** Gasto em peixes nos últimos 2 anos (contínua).  \n",
    "7. **MntMeatProducts:** Gasto em carnes (contínua).  \n",
    "8. **MntFruits:** Gasto em frutas (contínua).  \n",
    "9. **MntSweetProducts:** Gasto em produtos doces (contínua).  \n",
    "10. **MntWines:** Gasto em vinhos (contínua).  \n",
    "11. **MntGoldProds:** Gasto em produtos de ouro (contínua).  \n",
    "12. **NumDealsPurchases:** Compras com desconto (discreta).  \n",
    "13. **NumCatalogPurchases:** Compras por catálogo (discreta).  \n",
    "14. **NumStorePurchases:** Compras em lojas físicas (discreta).  \n",
    "15. **NumWebPurchases:** Compras pelo site (discreta).  \n",
    "16. **NumWebVisitsMonth:** Visitas ao site no último mês (discreta).  \n",
    "17. **Z_Revenue:** Receita do novo gadget (contínua).  \n",
    "18. **Z_CostContact:** Custo de contato para a campanha (contínua).  \n",
    "\n",
    "---\n",
    "\n",
    "## **Variáveis Qualitativas (Categóricas ou Binárias):**\n",
    "\n",
    "1. **ID:** Identificador único do cliente (nominal).  \n",
    "2. **DtCustomer:** Data de cadastro (temporal).  \n",
    "3. **Education:** Nível de escolaridade (nominal/categórica).  \n",
    "4. **Marital_Status:** Estado civil (nominal).  \n",
    "5. **Complain:** Reclamou nos últimos 2 anos (binária: 0/1).  \n",
    "6. **AcceptedCmp1-5:** Aceitou a oferta nas campanhas anteriores (binária: 0/1).  \n",
    "7. **Response:** Variável alvo (aceitou a última oferta: 0/1).  \n",
    "\n",
    "---\n",
    "\n",
    "## **Observações Importantes:**\n",
    "\n",
    "- **Variáveis Binárias:** (AcceptedCmpX, Response, Complain) podem ser tratadas como numéricas (0/1) para modelos preditivos.  \n",
    "- **Variável Temporal (DtCustomer):** Será convertida para \"tempo de relacionamento\" em dias.  \n",
    "- **ID:** Não será utilizada na modelagem preditiva.  \n",
    "- **Education:** Convertida para dummies (categórica nominal).  \n",
    "\n",
    "---\n",
    "\n",
    "## **Objetivos Específicos:**\n",
    "\n",
    "- **Maximizar o lucro esperado:**  \n",
    "   - Focar em clientes com maior potencial de retorno.  \n",
    "   - Evitar contato com clientes de lucro esperado negativo.  \n",
    "\n",
    "- **Segmentar e Personalizar:**  \n",
    "   - Desenvolver campanhas específicas para cada perfil de cliente.  \n",
    "   - Utilizar dados sociodemográficos e comportamentais.  \n",
    "\n",
    "---\n",
    "\n",
    "## **Conclusão:**\n",
    "\n",
    "A análise pretende otimizar a campanha de marketing com foco em:\n",
    "- **Identificar perfis lucrativos:** Priorizar segmentos com maior ROI.  \n",
    "- **Reduzir custos:** Evitar contatar clientes sem potencial de lucro.  \n",
    "- **Personalização:** Criar campanhas focadas em diferentes perfis (personas).  \n",
    "\n",
    "Essa abordagem permitirá ao time de marketing focar em ações que realmente maximizem o lucro da campanha, garantindo um retorno positivo sobre o investimento! 🚀"
   ]
  },
  {
   "cell_type": "markdown",
   "metadata": {},
   "source": [
    "# BLOCO: CARREGAMENTO E TRATAMENTO INICIAL DOS DADOS"
   ]
  },
  {
   "cell_type": "markdown",
   "metadata": {},
   "source": [
    "### Carregamento e tratamento dos dados"
   ]
  },
  {
   "cell_type": "code",
   "execution_count": 20,
   "metadata": {},
   "outputs": [
    {
     "name": "stdout",
     "output_type": "stream",
     "text": [
      "🔄 Dados carregados com sucesso!\n",
      "     ID  Year_Birth   Education Marital_Status   Income  Kidhome  Teenhome  \\\n",
      "0  5524        1957  Graduation         Single  58138.0        0         0   \n",
      "1  2174        1954  Graduation         Single  46344.0        1         1   \n",
      "2  4141        1965  Graduation       Together  71613.0        0         0   \n",
      "3  6182        1984  Graduation       Together  26646.0        1         0   \n",
      "4  5324        1981         PhD        Married  58293.0        1         0   \n",
      "\n",
      "  Dt_Customer  Recency  MntWines  ...  NumWebVisitsMonth  AcceptedCmp3  \\\n",
      "0  2012-09-04       58       635  ...                  7             0   \n",
      "1  2014-03-08       38        11  ...                  5             0   \n",
      "2  2013-08-21       26       426  ...                  4             0   \n",
      "3  2014-02-10       26        11  ...                  6             0   \n",
      "4  2014-01-19       94       173  ...                  5             0   \n",
      "\n",
      "   AcceptedCmp4  AcceptedCmp5  AcceptedCmp1  AcceptedCmp2  Complain  \\\n",
      "0             0             0             0             0         0   \n",
      "1             0             0             0             0         0   \n",
      "2             0             0             0             0         0   \n",
      "3             0             0             0             0         0   \n",
      "4             0             0             0             0         0   \n",
      "\n",
      "   Z_CostContact  Z_Revenue  Response  \n",
      "0              3         11         1  \n",
      "1              3         11         0  \n",
      "2              3         11         0  \n",
      "3              3         11         0  \n",
      "4              3         11         0  \n",
      "\n",
      "[5 rows x 29 columns]\n",
      "🔄 Tratamento inicial concluído!\n",
      "📊 Colunas após transformação em dummies:\n",
      "Index(['ID', 'Year_Birth', 'Income', 'Kidhome', 'Teenhome', 'Dt_Customer',\n",
      "       'Recency', 'MntWines', 'MntFruits', 'MntMeatProducts',\n",
      "       'MntFishProducts', 'MntSweetProducts', 'MntGoldProds',\n",
      "       'NumDealsPurchases', 'NumWebPurchases', 'NumCatalogPurchases',\n",
      "       'NumStorePurchases', 'NumWebVisitsMonth', 'AcceptedCmp3',\n",
      "       'AcceptedCmp4', 'AcceptedCmp5', 'AcceptedCmp1', 'AcceptedCmp2',\n",
      "       'Complain', 'Z_CostContact', 'Z_Revenue', 'Response', 'CustomerTenure',\n",
      "       'Age', 'TotalSpent', 'Education_Basic', 'Education_Graduation',\n",
      "       'Education_Master', 'Education_PhD', 'Marital_Status_Alone',\n",
      "       'Marital_Status_Divorced', 'Marital_Status_Married',\n",
      "       'Marital_Status_Single', 'Marital_Status_Together',\n",
      "       'Marital_Status_Widow', 'Marital_Status_YOLO'],\n",
      "      dtype='object')\n",
      "📊 Total de features utilizadas: 23\n",
      "🔄 Divisão treino/teste concluída!\n",
      "🔄 Treinamento do modelo concluído!\n",
      "\n",
      "🔍 Avaliação do Modelo:\n",
      "ROC AUC: 0.8738271507185558\n",
      "              precision    recall  f1-score   support\n",
      "\n",
      "           0       0.89      0.98      0.93       377\n",
      "           1       0.75      0.31      0.44        67\n",
      "\n",
      "    accuracy                           0.88       444\n",
      "   macro avg       0.82      0.65      0.69       444\n",
      "weighted avg       0.87      0.88      0.86       444\n",
      "\n",
      "💰 Total Expected Profit: 178.66\n"
     ]
    }
   ],
   "source": [
    "import pandas as pd\n",
    "import numpy as np\n",
    "from sklearn.model_selection import train_test_split\n",
    "from sklearn.ensemble import RandomForestClassifier\n",
    "from sklearn.metrics import roc_auc_score, classification_report\n",
    "\n",
    "# 1. Carregar dados\n",
    "# ------------------------------------------------------------------------------\n",
    "# Carrega o dataset e exibe as 5 primeiras linhas para uma verificação inicial.\n",
    "df = pd.read_csv('retail_case_data.csv')\n",
    "print(\"🔄 Dados carregados com sucesso!\")\n",
    "print(df.head())\n",
    "\n",
    "# 2. Tratamento inicial\n",
    "# ------------------------------------------------------------------------------\n",
    "# Transforma a coluna 'Dt_Customer' para formato de data e cria a coluna 'CustomerTenure'\n",
    "# indicando o tempo em dias desde o cadastro até 01/10/2023.\n",
    "df['Dt_Customer'] = pd.to_datetime(df['Dt_Customer'])\n",
    "df['CustomerTenure'] = (pd.to_datetime('2023-10-01') - df['Dt_Customer']).dt.days\n",
    "\n",
    "# Cria a coluna 'Age' com a idade dos clientes.\n",
    "df['Age'] = 2023 - df['Year_Birth']\n",
    "\n",
    "# Remove linhas com valores nulos na coluna 'Income', pois essa variável é crítica para o modelo.\n",
    "df.dropna(subset=['Income'], inplace=True)\n",
    "\n",
    "# Cria a coluna 'TotalSpent' somando os valores gastos em diferentes categorias de produtos.\n",
    "df['TotalSpent'] = (\n",
    "    df['MntFishProducts'] + df['MntMeatProducts'] + df['MntFruits'] + \n",
    "    df['MntSweetProducts'] + df['MntWines'] + df['MntGoldProds']\n",
    ")\n",
    "print(\"🔄 Tratamento inicial concluído!\")\n",
    "\n",
    "# 3. Transformar Education e Marital_Status em dummies\n",
    "# ------------------------------------------------------------------------------\n",
    "# Transforma variáveis categóricas ('Education' e 'Marital_Status') em variáveis dummy\n",
    "# para que o modelo possa utilizá-las.\n",
    "df = pd.get_dummies(df, columns=['Education', 'Marital_Status'], drop_first=True)\n",
    "print(\"📊 Colunas após transformação em dummies:\")\n",
    "print(df.columns)\n",
    "\n",
    "# 4. Definir variável-alvo (y)\n",
    "# ------------------------------------------------------------------------------\n",
    "# Define a variável-alvo 'Response' (1 = aceitou oferta, 0 = não aceitou).\n",
    "y = df['Response']\n",
    "\n",
    "# 5. Ajustar features com base nas colunas reais\n",
    "# ------------------------------------------------------------------------------\n",
    "# Define as features a serem utilizadas no modelo, considerando apenas as que realmente existem no dataset.\n",
    "features = [\n",
    "    'Income', 'Age', 'Recency', 'TotalSpent', 'Kidhome', 'Teenhome',\n",
    "    'NumDealsPurchases', 'NumCatalogPurchases', 'NumStorePurchases',\n",
    "    'NumWebPurchases', 'NumWebVisitsMonth', 'Complain',\n",
    "    'CustomerTenure', 'AcceptedCmp1', 'AcceptedCmp2', 'AcceptedCmp3',\n",
    "    'AcceptedCmp4', 'AcceptedCmp5',\n",
    "    # Ajusta os nomes conforme as colunas criadas nas dummies\n",
    "    'Education_Master', 'Education_PhD',\n",
    "    'Marital_Status_Married', 'Marital_Status_Single', 'Marital_Status_Together'\n",
    "]\n",
    "\n",
    "# Remove features que não existem no DataFrame (precaução).\n",
    "features = [col for col in features if col in df.columns]\n",
    "X = df[features]\n",
    "print(f\"📊 Total de features utilizadas: {len(features)}\")\n",
    "\n",
    "# 6. Divisão Treino/Teste\n",
    "# ------------------------------------------------------------------------------\n",
    "# Divide os dados em conjuntos de treino (80%) e teste (20%), mantendo a proporção das classes.\n",
    "X_train, X_test, y_train, y_test = train_test_split(\n",
    "    X, y, test_size=0.2, random_state=42, stratify=y\n",
    ")\n",
    "print(\"🔄 Divisão treino/teste concluída!\")\n",
    "\n",
    "# 7. Modelagem com Random Forest\n",
    "# ------------------------------------------------------------------------------\n",
    "# Treina um modelo de Random Forest para prever se um cliente aceitará a oferta.\n",
    "model = RandomForestClassifier(n_estimators=100, random_state=42)\n",
    "model.fit(X_train, y_train)\n",
    "\n",
    "# Previsões no conjunto de teste\n",
    "y_pred = model.predict(X_test)\n",
    "y_proba = model.predict_proba(X_test)[:, 1]\n",
    "print(\"🔄 Treinamento do modelo concluído!\")\n",
    "\n",
    "# 8. Avaliação do Modelo\n",
    "# ------------------------------------------------------------------------------\n",
    "# Avalia o modelo utilizando a métrica ROC AUC e exibe um relatório de classificação.\n",
    "print(\"\\n🔍 Avaliação do Modelo:\")\n",
    "print(\"ROC AUC:\", roc_auc_score(y_test, y_proba))\n",
    "print(classification_report(y_test, y_pred))\n",
    "\n",
    "# 9. Cálculo do Lucro Esperado\n",
    "# ------------------------------------------------------------------------------\n",
    "# Cria um DataFrame para o conjunto de teste e calcula o lucro esperado para cada cliente.\n",
    "df_test = X_test.copy()\n",
    "df_test['Prob'] = y_proba\n",
    "df_test['Z_Revenue'] = df.loc[df_test.index, 'Z_Revenue']\n",
    "df_test['Z_CostContact'] = df.loc[df_test.index, 'Z_CostContact']\n",
    "\n",
    "# Calcula o lucro esperado com base na probabilidade prevista pelo modelo.\n",
    "df_test['ExpectedProfit'] = df_test['Prob'] * df_test['Z_Revenue'] - df_test['Z_CostContact']\n",
    "df_test = df_test.sort_values(by='ExpectedProfit', ascending=False)\n",
    "\n",
    "# Seleciona apenas clientes com lucro esperado positivo.\n",
    "selected_df = df_test[df_test['ExpectedProfit'] > 0]\n",
    "total_expected_profit = selected_df['ExpectedProfit'].sum()\n",
    "print(f\"💰 Total Expected Profit: {total_expected_profit:.2f}\")"
   ]
  },
  {
   "cell_type": "markdown",
   "metadata": {},
   "source": [
    "# BLOCO: DATA VISUALIZATION"
   ]
  },
  {
   "cell_type": "code",
   "execution_count": 21,
   "metadata": {},
   "outputs": [],
   "source": [
    "import matplotlib.pyplot as plt\n",
    "import seaborn as sns\n",
    "\n",
    "# Ajuste opcional de estilo para gráficos\n",
    "sns.set_style('whitegrid')"
   ]
  },
  {
   "cell_type": "markdown",
   "metadata": {},
   "source": [
    "### Matriz de Confusão:\n",
    "\n",
    "- Ajuda a visualizar quantos acertos e erros o modelo teve para cada classe.\n",
    "- Objetivo: Entender se há muitos falsos negativos (clientes que aceitariam, mas foram classificados como \"não\").\n",
    "\n",
    "*A matriz de confusão mostra que o modelo teve dificuldades em identificar corretamente quem aceitaria a oferta (46 falsos negativos).*\n",
    "\n",
    "**Considerar um limiar de decisão mais baixo (ex.: 0.3) para capturar mais potenciais clientes, mesmo que aumente o número de falsos positivos.**"
   ]
  },
  {
   "cell_type": "code",
   "execution_count": 22,
   "metadata": {},
   "outputs": [
    {
     "data": {
      "image/png": "[encoded data removed]",
      "text/plain": [
       "<Figure size 360x288 with 2 Axes>"
      ]
     },
     "metadata": {},
     "output_type": "display_data"
    }
   ],
   "source": [
    "# 1. Matriz de Confusão\n",
    "from sklearn.metrics import confusion_matrix\n",
    "\n",
    "cm = confusion_matrix(y_test, y_pred)\n",
    "plt.figure(figsize=(5, 4))\n",
    "sns.heatmap(cm, annot=True, fmt='d', cmap='Blues')\n",
    "plt.title('Matriz de Confusão - RandomForest')\n",
    "plt.xlabel('Predição')\n",
    "plt.ylabel('Verdadeiro')\n",
    "plt.show()"
   ]
  },
  {
   "cell_type": "markdown",
   "metadata": {},
   "source": [
    "### Importância das Features:\n",
    "\n",
    "- Exibe quais variáveis mais influenciam a decisão do modelo.\n",
    "- Objetivo: Direcionar campanhas para variáveis como “Income” ou “TotalSpent” se forem importantes.\n",
    "\n",
    "*As variáveis 'CustomerTenure', 'Recency' e 'TotalSpent' são as mais influentes.*\n",
    "\n",
    "**Focar em campanhas para clientes com alto 'CustomerTenure' e 'TotalSpent', oferecendo benefícios exclusivos para fidelização.** "
   ]
  },
  {
   "cell_type": "code",
   "execution_count": 23,
   "metadata": {},
   "outputs": [
    {
     "data": {
      "image/png": "[encoded data removed]",
      "text/plain": [
       "<Figure size 576x360 with 1 Axes>"
      ]
     },
     "metadata": {},
     "output_type": "display_data"
    }
   ],
   "source": [
    "# 2. Importância das Features\n",
    "importances = model.feature_importances_\n",
    "indices = np.argsort(importances)[::-1]\n",
    "\n",
    "plt.figure(figsize=(8, 5))\n",
    "sns.barplot(x=importances[indices], y=[features[i] for i in indices], palette='viridis')\n",
    "plt.title('Importância das Features - Random Forest')\n",
    "plt.xlabel('Importância')\n",
    "plt.ylabel('Features')\n",
    "plt.show()"
   ]
  },
  {
   "cell_type": "markdown",
   "metadata": {},
   "source": [
    "### Distribuição de ExpectedProfit:\n",
    "\n",
    "- Mostra a expectativa de lucro para cada cliente no conjunto de teste.\n",
    "- Objetivo: Avaliar se há muitos clientes com lucro esperado negativo (para evitá-los).\n",
    "\n",
    "*Muitos clientes têm lucro esperado negativo.*\n",
    "\n",
    "**Evitar contatar clientes com lucro esperado < 0. Filtrar para campanhas só quem tem lucro positivo.**"
   ]
  },
  {
   "cell_type": "code",
   "execution_count": 24,
   "metadata": {},
   "outputs": [
    {
     "data": {
      "image/png": "[encoded data removed]",
      "text/plain": [
       "<Figure size 504x288 with 1 Axes>"
      ]
     },
     "metadata": {},
     "output_type": "display_data"
    }
   ],
   "source": [
    "# 3. Distribuição de ExpectedProfit\n",
    "plt.figure(figsize=(7, 4))\n",
    "sns.histplot(df_test['ExpectedProfit'], bins=20, kde=True, color='green')\n",
    "plt.title('Distribuição de ExpectedProfit no Conjunto de Teste')\n",
    "plt.xlabel('Expected Profit')\n",
    "plt.ylabel('Contagem')\n",
    "plt.show()"
   ]
  },
  {
   "cell_type": "markdown",
   "metadata": {},
   "source": [
    "### Distribuição de Probabilidades Previsão:\n",
    "\n",
    "- Exibe como o modelo distribui as probabilidades de aceitação da oferta.\n",
    "- Objetivo: Ajustar o limiar de decisão com base em onde a maioria das probabilidades se encontra.\n",
    "\n",
    "*A distribuição das probabilidades indica que poucos clientes têm alta chance de aceitar.*\n",
    "\n",
    "**Investir mais em campanhas para clientes com probabilidade > 0.5.**"
   ]
  },
  {
   "cell_type": "code",
   "execution_count": 25,
   "metadata": {},
   "outputs": [
    {
     "data": {
      "image/png": "[encoded data removed]",
      "text/plain": [
       "<Figure size 504x288 with 1 Axes>"
      ]
     },
     "metadata": {},
     "output_type": "display_data"
    }
   ],
   "source": [
    "# 4. Distribuição de Probabilidades Previsão\n",
    "plt.figure(figsize=(7, 4))\n",
    "sns.histplot(y_proba, bins=20, kde=True, color='skyblue')\n",
    "plt.title('Distribuição das Probabilidades Previstos (Classe 1)')\n",
    "plt.xlabel('Probabilidade Prevista')\n",
    "plt.ylabel('Contagem')\n",
    "plt.show()"
   ]
  },
  {
   "cell_type": "markdown",
   "metadata": {},
   "source": [
    "### Curva ROC:\n",
    "\n",
    "- Ilustra a performance do modelo em diferentes limiares.\n",
    "- Objetivo: Avaliar se o modelo tem boa discriminação entre quem aceita e quem não aceita.\n",
    "\n",
    "*A curva ROC mostra uma boa capacidade do modelo (AUC = 0.87).*\n",
    "\n",
    "**Ajustar limiar conforme orçamento disponível, priorizando clientes de maior receita esperada.**"
   ]
  },
  {
   "cell_type": "code",
   "execution_count": 26,
   "metadata": {},
   "outputs": [
    {
     "data": {
      "image/png": "[encoded data removed]",
      "text/plain": [
       "<Figure size 504x360 with 1 Axes>"
      ]
     },
     "metadata": {},
     "output_type": "display_data"
    }
   ],
   "source": [
    "# 5. Curva ROC\n",
    "from sklearn.metrics import roc_curve, auc\n",
    "\n",
    "fpr, tpr, _ = roc_curve(y_test, y_proba)\n",
    "roc_auc = auc(fpr, tpr)\n",
    "\n",
    "plt.figure(figsize=(7, 5))\n",
    "plt.plot(fpr, tpr, color='darkorange', lw=2, label=f'ROC curve (AUC = {roc_auc:.2f})')\n",
    "plt.plot([0, 1], [0, 1], color='navy', lw=2, linestyle='--')\n",
    "plt.title('Curva ROC')\n",
    "plt.xlabel('False Positive Rate')\n",
    "plt.ylabel('True Positive Rate')\n",
    "plt.legend(loc='lower right')\n",
    "plt.show()"
   ]
  },
  {
   "cell_type": "markdown",
   "metadata": {},
   "source": [
    "# BLOCO: CRIAÇÃO DE PERSONAS E AÇÕES DE MARKETING"
   ]
  },
  {
   "cell_type": "code",
   "execution_count": 27,
   "metadata": {},
   "outputs": [
    {
     "name": "stdout",
     "output_type": "stream",
     "text": [
      "🔵 Persona A: High Spenders\n",
      "Características:\n",
      " - Alta renda e alto gasto em produtos (TotalSpent)\n",
      " - Geralmente casados ou juntos (Marital_Status_Married ou _Together)\n",
      "📌 Estratégia de Marketing: Oferecer pacotes premium com benefícios exclusivos e programas de fidelização.\n",
      "\n"
     ]
    }
   ],
   "source": [
    "# 1. Persona A: High Spenders\n",
    "persona_a = df_test[(df_test['TotalSpent'] > df_test['TotalSpent'].quantile(0.75)) & \n",
    "                    (df_test['Income'] > df_test['Income'].quantile(0.75))]\n",
    "print(\"🔵 Persona A: High Spenders\")\n",
    "print(\"Características:\")\n",
    "print(\" - Alta renda e alto gasto em produtos (TotalSpent)\")\n",
    "print(\" - Geralmente casados ou juntos (Marital_Status_Married ou _Together)\")\n",
    "print(\"📌 Estratégia de Marketing: Oferecer pacotes premium com benefícios exclusivos e programas de fidelização.\\n\")"
   ]
  },
  {
   "cell_type": "code",
   "execution_count": 28,
   "metadata": {},
   "outputs": [
    {
     "name": "stdout",
     "output_type": "stream",
     "text": [
      "🟢 Persona B: Bargain Seekers\n",
      "Características:\n",
      " - Busca ofertas e descontos (NumDealsPurchases alto)\n",
      " - Renda média ou baixa\n",
      "📌 Estratégia de Marketing: Campanhas com descontos progressivos e ofertas por tempo limitado.\n",
      "\n"
     ]
    }
   ],
   "source": [
    "# 2. Persona B: Bargain Seekers\n",
    "persona_b = df_test[(df_test['NumDealsPurchases'] > 0) & \n",
    "                    (df_test['Income'] <= df_test['Income'].quantile(0.50))]\n",
    "print(\"🟢 Persona B: Bargain Seekers\")\n",
    "print(\"Características:\")\n",
    "print(\" - Busca ofertas e descontos (NumDealsPurchases alto)\")\n",
    "print(\" - Renda média ou baixa\")\n",
    "print(\"📌 Estratégia de Marketing: Campanhas com descontos progressivos e ofertas por tempo limitado.\\n\")"
   ]
  },
  {
   "cell_type": "code",
   "execution_count": 29,
   "metadata": {},
   "outputs": [
    {
     "name": "stdout",
     "output_type": "stream",
     "text": [
      "🟠 Persona C: Tech Enthusiasts\n",
      "Características:\n",
      " - Jovens com compras frequentes no site\n",
      " - Interesse em tecnologia e gadgets\n",
      "📌 Estratégia de Marketing: Marketing digital com campanhas via redes sociais e ofertas para early adopters.\n",
      "\n"
     ]
    }
   ],
   "source": [
    "# 3. Persona C: Tech Enthusiasts\n",
    "persona_c = df_test[(df_test['NumWebPurchases'] > 0) & \n",
    "                    (df_test['Age'] < 35)]\n",
    "print(\"🟠 Persona C: Tech Enthusiasts\")\n",
    "print(\"Características:\")\n",
    "print(\" - Jovens com compras frequentes no site\")\n",
    "print(\" - Interesse em tecnologia e gadgets\")\n",
    "print(\"📌 Estratégia de Marketing: Marketing digital com campanhas via redes sociais e ofertas para early adopters.\\n\")"
   ]
  },
  {
   "cell_type": "code",
   "execution_count": 30,
   "metadata": {},
   "outputs": [
    {
     "name": "stdout",
     "output_type": "stream",
     "text": [
      "🔴 Persona D: Long-Term Loyalists\n",
      "Características:\n",
      " - Longo tempo como cliente e sem reclamações\n",
      " - Alto 'CustomerTenure' e perfil estável\n",
      "📌 Estratégia de Marketing: Ofertas personalizadas de fidelização e upgrades gratuitos.\n",
      "\n"
     ]
    }
   ],
   "source": [
    "# 4. Persona D: Long-Term Loyalists\n",
    "persona_d = df_test[(df_test['CustomerTenure'] > df_test['CustomerTenure'].quantile(0.75)) & \n",
    "                    (df_test['Complain'] == 0)]\n",
    "print(\"🔴 Persona D: Long-Term Loyalists\")\n",
    "print(\"Características:\")\n",
    "print(\" - Longo tempo como cliente e sem reclamações\")\n",
    "print(\" - Alto 'CustomerTenure' e perfil estável\")\n",
    "print(\"📌 Estratégia de Marketing: Ofertas personalizadas de fidelização e upgrades gratuitos.\\n\")"
   ]
  },
  {
   "cell_type": "markdown",
   "metadata": {},
   "source": [
    "# 📊 **Conclusão Final: Estratégias para Maximização do Lucro**\n",
    "\n",
    "## **🔍 Resumo: Ações Direcionadas para Cada Persona**\n",
    "\n",
    "### **1. High Spenders (Grandes Gastadores):**\n",
    "- **💡 Perfil:** Clientes com alto gasto total (TotalSpent) e renda elevada (Income).  \n",
    "- **🎯 Foco:** Ofertas premium, programas de fidelidade exclusivos e lançamento antecipado de produtos.  \n",
    "- **📢 Canais:**  \n",
    "   - **E-mail marketing segmentado:** Mensagens personalizadas com benefícios exclusivos.  \n",
    "   - **Malas diretas exclusivas:** Catálogos personalizados com produtos de luxo.  \n",
    "- **📈 Objetivo:** Aumentar a recorrência de compras de alto valor.  \n",
    "\n",
    "---\n",
    "\n",
    "### **2. Bargain Seekers (Caçadores de Promoções):**\n",
    "- **💡 Perfil:** Clientes que frequentemente compram com desconto (NumDealsPurchases).  \n",
    "- **🎯 Foco:** Descontos progressivos, promoções relâmpago e pacotes de produtos.  \n",
    "- **📢 Canais:**  \n",
    "   - **SMS marketing:** Promoções limitadas e códigos de desconto.  \n",
    "   - **Pop-ups de desconto no site:** Incentivos para finalizar compras.  \n",
    "- **📈 Objetivo:** Aumentar o volume de vendas com margens controladas.  \n",
    "\n",
    "---\n",
    "\n",
    "### **3. Tech Enthusiasts (Entusiastas de Tecnologia):**\n",
    "- **💡 Perfil:** Clientes com alta frequência de visitas ao site (NumWebVisitsMonth) e compras online (NumWebPurchases).  \n",
    "- **🎯 Foco:** Novidades tecnológicas, gadgets e produtos exclusivos para compra antecipada.  \n",
    "- **📢 Canais:**  \n",
    "   - **Redes sociais (Instagram, TikTok):** Anúncios com demonstrações de produtos.  \n",
    "   - **E-mails interativos:** Vídeos, GIFs e landing pages para conversão rápida.  \n",
    "- **📈 Objetivo:** Maximizar o engajamento e conversões através de canais digitais.  \n",
    "\n",
    "---\n",
    "\n",
    "### **4. Long-Term Loyalists (Clientes Fiéis de Longo Prazo):**\n",
    "- **💡 Perfil:** Clientes com alto tempo de relacionamento (CustomerTenure) e taxa de recompra elevada.  \n",
    "- **🎯 Foco:** Programas de fidelidade, benefícios exclusivos e ofertas personalizadas.  \n",
    "- **📢 Canais:**  \n",
    "   - **E-mail marketing personalizado:** Recomendações baseadas no histórico de compras.  \n",
    "   - **Call center:** Atendimento prioritário para retenção.  \n",
    "- **📈 Objetivo:** Aumentar a retenção e o lifetime value (LTV).  \n",
    "\n",
    "---\n",
    "\n",
    "## **📊 Comparação com a Campanha Piloto:**\n",
    "\n",
    "### **📊 Resultados da Campanha Piloto:**\n",
    "- **Custo:** 6.720 MU  \n",
    "- **Receita gerada:** 3.674 MU  \n",
    "- **Lucro total:** -3.046 MU (prejuízo)  \n",
    "- **Taxa de sucesso:** 15% dos clientes aceitaram a oferta.  \n",
    "\n",
    "---\n",
    "\n",
    "### **📈 Expectativa com as Novas Estratégias:**\n",
    "\n",
    "#### **1. Custo x Receita x Lucro:**\n",
    "- **Custo estimado para a nova campanha:** Mantendo um custo similar de 6.720 MU.  \n",
    "- **Receita esperada com as novas estratégias:** Com base no cálculo de **Total Expected Profit = 178.66 MU**, a receita esperada seria aproximadamente **6.898 MU** (considerando um lucro líquido).  \n",
    "- **Lucro estimado:**  \n",
    "   - **Nova estimativa:** 6.898 MU (receita) - 6.720 MU (custo) = **+178 MU (lucro)**.  \n",
    "   - **Comparação:** Reverter um prejuízo de -3.046 MU para um lucro de +178 MU seria um ganho líquido de **+3.224 MU**.  \n",
    "\n",
    "#### **2. Taxa de Sucesso:**\n",
    "- **Taxa de sucesso da campanha piloto:** 15%.  \n",
    "- **Taxa de sucesso esperada com as novas estratégias:**  \n",
    "   - As variáveis-chave como **CustomerTenure, TotalSpent e Income** sugerem uma taxa de conversão potencialmente maior.  \n",
    "   - Se focarmos apenas nos clientes com **lucro esperado positivo**, a taxa de sucesso pode ultrapassar **25% a 30%**, com base nos scores preditivos.  \n",
    "\n",
    "---\n",
    "\n",
    "### **📊 Comparação Numérica Resumida:**\n",
    "\n",
    "| **Indicador**                         | **Campanha Piloto** | **Nova Campanha (Estimativa)** | **Diferença**           |\n",
    "|---------------------------------------|---------------------|--------------------------------|--------------------------|\n",
    "| **Custo Total (MU)**                  | 6.720               | 6.720                          | 0                        |\n",
    "| **Receita Total (MU)**                | 3.674               | 6.898                          | +3.224                   |\n",
    "| **Lucro (MU)**                        | -3.046              | +178                           | +3.224                   |\n",
    "| **Taxa de Sucesso (%)**               | 15%                 | 25% - 30%                      | +10% a +15%              |\n",
    "| **Expected Profit (MU)**              | -                   | 178.66                         | +178.66                  |\n",
    "\n",
    "---\n",
    "\n",
    "## **💼 Recomendações para a Próxima Campanha:**\n",
    "\n",
    "1. **Segmentar a Base:**  \n",
    "   - Implementar um sistema de pontuação para classificar clientes conforme as personas.  \n",
    "   - Priorizar ofertas de maior margem para **High Spenders** e descontos controlados para **Bargain Seekers**.  \n",
    "\n",
    "2. **Otimizar Canais:**  \n",
    "   - Reforçar presença em **redes sociais e e-mail marketing** para atingir **Tech Enthusiasts**.  \n",
    "   - Utilizar SMS para promoções rápidas, focando em conversão de **Bargain Seekers**.  \n",
    "\n",
    "3. **Maximizar o ROI:**  \n",
    "   - Focar em clientes com maior **ExpectedProfit** calculado.  \n",
    "   - Ajustar o orçamento para campanhas com maior retorno previsto.  \n",
    "\n",
    "---\n",
    "\n",
    "## **📌 Conclusão:**\n",
    "\n",
    "As análises realizadas identificaram perfis claros de clientes com diferentes preferências e potenciais de lucro. A aplicação de estratégias segmentadas permitirá:\n",
    "\n",
    "- **Maximização do Lucro:** Focar nos perfis mais lucrativos.  \n",
    "- **Redução de Custos:** Evitar campanhas para perfis sem potencial de retorno.  \n",
    "- **Personalização:** Adaptar ofertas conforme os interesses de cada persona.  \n",
    "\n",
    "Com essas ações, o time de marketing poderá **aumentar significativamente o ROI**, transformando a campanha em um caso de sucesso, revertendo o prejuízo da campanha piloto e alcançando resultados sólidos e sustentáveis! 🚀"
   ]
  }
 ],
 "metadata": {
  "kernelspec": {
   "display_name": "base",
   "language": "python",
   "name": "python3"
  },
  "language_info": {
   "codemirror_mode": {
    "name": "ipython",
    "version": 3
   },
   "file_extension": ".py",
   "mimetype": "text/x-python",
   "name": "python",
   "nbconvert_exporter": "python",
   "pygments_lexer": "ipython3",
   "version": "3.7.6"
  }
 },
 "nbformat": 4,
 "nbformat_minor": 2
}
